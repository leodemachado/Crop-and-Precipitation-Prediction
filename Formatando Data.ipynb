{
 "cells": [
  {
   "cell_type": "markdown",
   "id": "aquatic-crowd",
   "metadata": {},
   "source": [
    "## Data preprocessing"
   ]
  },
  {
   "cell_type": "code",
   "execution_count": 2,
   "id": "atlantic-mambo",
   "metadata": {},
   "outputs": [],
   "source": [
    "import pandas as pd\n",
    "import numpy as np\n",
    "import os\n",
    "import glob\n",
    "import re"
   ]
  },
  {
   "cell_type": "markdown",
   "id": "detected-limit",
   "metadata": {},
   "source": [
    "### See surface temperature"
   ]
  },
  {
   "cell_type": "code",
   "execution_count": 19,
   "id": "convenient-virgin",
   "metadata": {},
   "outputs": [],
   "source": [
    "def data_transform_month(num):\n",
    "    # converts raw data into year-month-day \n",
    "    num = str(num)\n",
    "    month = num[5:7]\n",
    "    \n",
    "    if month[1] == '-':\n",
    "        new_date = num[0:5] + '0' + num[5:]\n",
    "    else:\n",
    "        new_date = num\n",
    "    return new_date"
   ]
  },
  {
   "cell_type": "code",
   "execution_count": 16,
   "id": "missing-latest",
   "metadata": {},
   "outputs": [],
   "source": [
    "def data_transform(num):\n",
    "    # converts raw data into year-month-day \n",
    "    reference = [(.0, 1), (.08, 2), (.17,3), (.25,4), (.33,5), (.42,6), (.5,7), (.58,8), (.67,9), (.75, 10), (.83,11), (.92,12)]\n",
    "    \n",
    "    rest = round(num - int(num), 2)\n",
    "    for i in range(len(reference)):\n",
    "        if rest == reference[i][0]:\n",
    "            date = str(int(num)) + '-' + str(reference[i][1]) + '-01' \n",
    "            return date"
   ]
  },
  {
   "cell_type": "code",
   "execution_count": 42,
   "id": "practical-combination",
   "metadata": {},
   "outputs": [
    {
     "data": {
      "text/html": [
       "<div>\n",
       "<style scoped>\n",
       "    .dataframe tbody tr th:only-of-type {\n",
       "        vertical-align: middle;\n",
       "    }\n",
       "\n",
       "    .dataframe tbody tr th {\n",
       "        vertical-align: top;\n",
       "    }\n",
       "\n",
       "    .dataframe thead th {\n",
       "        text-align: right;\n",
       "    }\n",
       "</style>\n",
       "<table border=\"1\" class=\"dataframe\">\n",
       "  <thead>\n",
       "    <tr style=\"text-align: right;\">\n",
       "      <th></th>\n",
       "      <th>Year-month</th>\n",
       "      <th>Temperature</th>\n",
       "    </tr>\n",
       "  </thead>\n",
       "  <tbody>\n",
       "    <tr>\n",
       "      <th>0</th>\n",
       "      <td>1998-1-01</td>\n",
       "      <td>28.95</td>\n",
       "    </tr>\n",
       "    <tr>\n",
       "      <th>1</th>\n",
       "      <td>1998-2-01</td>\n",
       "      <td>28.79</td>\n",
       "    </tr>\n",
       "    <tr>\n",
       "      <th>2</th>\n",
       "      <td>1998-3-01</td>\n",
       "      <td>28.62</td>\n",
       "    </tr>\n",
       "    <tr>\n",
       "      <th>3</th>\n",
       "      <td>1998-4-01</td>\n",
       "      <td>28.56</td>\n",
       "    </tr>\n",
       "    <tr>\n",
       "      <th>4</th>\n",
       "      <td>1998-5-01</td>\n",
       "      <td>28.66</td>\n",
       "    </tr>\n",
       "  </tbody>\n",
       "</table>\n",
       "</div>"
      ],
      "text/plain": [
       "  Year-month   Temperature\n",
       "0  1998-1-01         28.95\n",
       "1  1998-2-01         28.79\n",
       "2  1998-3-01         28.62\n",
       "3  1998-4-01         28.56\n",
       "4  1998-5-01         28.66"
      ]
     },
     "execution_count": 42,
     "metadata": {},
     "output_type": "execute_result"
    }
   ],
   "source": [
    "file_name = 'Elninho/Ninho 4 (From NOAA-CPC) Jan-Dec-1948-2021.csv'\n",
    "df = pd.read_csv(file_name, index_col=None)\n",
    "df.head()\n"
   ]
  },
  {
   "cell_type": "code",
   "execution_count": 43,
   "id": "normal-faculty",
   "metadata": {},
   "outputs": [
    {
     "data": {
      "text/html": [
       "<div>\n",
       "<style scoped>\n",
       "    .dataframe tbody tr th:only-of-type {\n",
       "        vertical-align: middle;\n",
       "    }\n",
       "\n",
       "    .dataframe tbody tr th {\n",
       "        vertical-align: top;\n",
       "    }\n",
       "\n",
       "    .dataframe thead th {\n",
       "        text-align: right;\n",
       "    }\n",
       "</style>\n",
       "<table border=\"1\" class=\"dataframe\">\n",
       "  <thead>\n",
       "    <tr style=\"text-align: right;\">\n",
       "      <th></th>\n",
       "      <th>Year-month</th>\n",
       "      <th>Temperature</th>\n",
       "    </tr>\n",
       "  </thead>\n",
       "  <tbody>\n",
       "    <tr>\n",
       "      <th>0</th>\n",
       "      <td>1998-01-01</td>\n",
       "      <td>28.95</td>\n",
       "    </tr>\n",
       "    <tr>\n",
       "      <th>1</th>\n",
       "      <td>1998-02-01</td>\n",
       "      <td>28.79</td>\n",
       "    </tr>\n",
       "    <tr>\n",
       "      <th>2</th>\n",
       "      <td>1998-03-01</td>\n",
       "      <td>28.62</td>\n",
       "    </tr>\n",
       "    <tr>\n",
       "      <th>3</th>\n",
       "      <td>1998-04-01</td>\n",
       "      <td>28.56</td>\n",
       "    </tr>\n",
       "    <tr>\n",
       "      <th>4</th>\n",
       "      <td>1998-05-01</td>\n",
       "      <td>28.66</td>\n",
       "    </tr>\n",
       "    <tr>\n",
       "      <th>...</th>\n",
       "      <td>...</td>\n",
       "      <td>...</td>\n",
       "    </tr>\n",
       "    <tr>\n",
       "      <th>283</th>\n",
       "      <td>2021-08-01</td>\n",
       "      <td>28.53</td>\n",
       "    </tr>\n",
       "    <tr>\n",
       "      <th>284</th>\n",
       "      <td>2021-09-01</td>\n",
       "      <td>28.23</td>\n",
       "    </tr>\n",
       "    <tr>\n",
       "      <th>285</th>\n",
       "      <td>2021-10-01</td>\n",
       "      <td>28.03</td>\n",
       "    </tr>\n",
       "    <tr>\n",
       "      <th>286</th>\n",
       "      <td>2021-11-01</td>\n",
       "      <td>NaN</td>\n",
       "    </tr>\n",
       "    <tr>\n",
       "      <th>287</th>\n",
       "      <td>2021-12-01</td>\n",
       "      <td>NaN</td>\n",
       "    </tr>\n",
       "  </tbody>\n",
       "</table>\n",
       "<p>288 rows × 2 columns</p>\n",
       "</div>"
      ],
      "text/plain": [
       "     Year-month   Temperature\n",
       "0    1998-01-01         28.95\n",
       "1    1998-02-01         28.79\n",
       "2    1998-03-01         28.62\n",
       "3    1998-04-01         28.56\n",
       "4    1998-05-01         28.66\n",
       "..          ...           ...\n",
       "283  2021-08-01         28.53\n",
       "284  2021-09-01         28.23\n",
       "285  2021-10-01         28.03\n",
       "286  2021-11-01           NaN\n",
       "287  2021-12-01           NaN\n",
       "\n",
       "[288 rows x 2 columns]"
      ]
     },
     "execution_count": 43,
     "metadata": {},
     "output_type": "execute_result"
    }
   ],
   "source": [
    "df['Year-month'] = list(map(data_transform_month, df['Year-month']))\n",
    "df"
   ]
  },
  {
   "cell_type": "code",
   "execution_count": 44,
   "id": "arbitrary-bruce",
   "metadata": {},
   "outputs": [],
   "source": [
    "df.to_csv(file_name, index=False)"
   ]
  },
  {
   "cell_type": "code",
   "execution_count": 27,
   "id": "careful-probe",
   "metadata": {},
   "outputs": [],
   "source": [
    "# Converting all the data to standard data format yyy-mm-dd\n"
   ]
  },
  {
   "cell_type": "code",
   "execution_count": 28,
   "id": "editorial-increase",
   "metadata": {},
   "outputs": [
    {
     "data": {
      "text/html": [
       "<div>\n",
       "<style scoped>\n",
       "    .dataframe tbody tr th:only-of-type {\n",
       "        vertical-align: middle;\n",
       "    }\n",
       "\n",
       "    .dataframe tbody tr th {\n",
       "        vertical-align: top;\n",
       "    }\n",
       "\n",
       "    .dataframe thead th {\n",
       "        text-align: right;\n",
       "    }\n",
       "</style>\n",
       "<table border=\"1\" class=\"dataframe\">\n",
       "  <thead>\n",
       "    <tr style=\"text-align: right;\">\n",
       "      <th></th>\n",
       "      <th>Year-month</th>\n",
       "      <th>NTA</th>\n",
       "    </tr>\n",
       "  </thead>\n",
       "  <tbody>\n",
       "    <tr>\n",
       "      <th>0</th>\n",
       "      <td>1998-1-01</td>\n",
       "      <td>0.47</td>\n",
       "    </tr>\n",
       "    <tr>\n",
       "      <th>1</th>\n",
       "      <td>1998-2-01</td>\n",
       "      <td>0.58</td>\n",
       "    </tr>\n",
       "    <tr>\n",
       "      <th>2</th>\n",
       "      <td>1998-3-01</td>\n",
       "      <td>0.67</td>\n",
       "    </tr>\n",
       "    <tr>\n",
       "      <th>3</th>\n",
       "      <td>1998-4-01</td>\n",
       "      <td>0.56</td>\n",
       "    </tr>\n",
       "    <tr>\n",
       "      <th>4</th>\n",
       "      <td>1998-5-01</td>\n",
       "      <td>0.48</td>\n",
       "    </tr>\n",
       "    <tr>\n",
       "      <th>...</th>\n",
       "      <td>...</td>\n",
       "      <td>...</td>\n",
       "    </tr>\n",
       "    <tr>\n",
       "      <th>283</th>\n",
       "      <td>2021-8-01</td>\n",
       "      <td>NaN</td>\n",
       "    </tr>\n",
       "    <tr>\n",
       "      <th>284</th>\n",
       "      <td>2021-9-01</td>\n",
       "      <td>NaN</td>\n",
       "    </tr>\n",
       "    <tr>\n",
       "      <th>285</th>\n",
       "      <td>2021-10-01</td>\n",
       "      <td>NaN</td>\n",
       "    </tr>\n",
       "    <tr>\n",
       "      <th>286</th>\n",
       "      <td>2021-11-01</td>\n",
       "      <td>NaN</td>\n",
       "    </tr>\n",
       "    <tr>\n",
       "      <th>287</th>\n",
       "      <td>2021-12-01</td>\n",
       "      <td>NaN</td>\n",
       "    </tr>\n",
       "  </tbody>\n",
       "</table>\n",
       "<p>288 rows × 2 columns</p>\n",
       "</div>"
      ],
      "text/plain": [
       "     Year-month   NTA\n",
       "0     1998-1-01  0.47\n",
       "1     1998-2-01  0.58\n",
       "2     1998-3-01  0.67\n",
       "3     1998-4-01  0.56\n",
       "4     1998-5-01  0.48\n",
       "..          ...   ...\n",
       "283   2021-8-01   NaN\n",
       "284   2021-9-01   NaN\n",
       "285  2021-10-01   NaN\n",
       "286  2021-11-01   NaN\n",
       "287  2021-12-01   NaN\n",
       "\n",
       "[288 rows x 2 columns]"
      ]
     },
     "execution_count": 28,
     "metadata": {},
     "output_type": "execute_result"
    }
   ],
   "source": [
    "df_NTA.fillna('NaN')"
   ]
  },
  {
   "cell_type": "code",
   "execution_count": 30,
   "id": "level-developer",
   "metadata": {},
   "outputs": [
    {
     "data": {
      "text/plain": [
       "Year-month     0\n",
       "NTA           22\n",
       "dtype: int64"
      ]
     },
     "execution_count": 30,
     "metadata": {},
     "output_type": "execute_result"
    }
   ],
   "source": [
    "df_NTA.isna().sum()"
   ]
  },
  {
   "cell_type": "code",
   "execution_count": 31,
   "id": "dependent-portfolio",
   "metadata": {},
   "outputs": [],
   "source": [
    "df_NTA.to_csv('North Tropical Atlantic SST Index (NTA) (From NOAA and PSL) Jan-Dec-1950-2020.csv', index=False)"
   ]
  },
  {
   "cell_type": "code",
   "execution_count": 53,
   "id": "million-career",
   "metadata": {},
   "outputs": [],
   "source": [
    "del df_NTA"
   ]
  },
  {
   "cell_type": "markdown",
   "id": "forbidden-vegetation",
   "metadata": {},
   "source": [
    "### Doing fo all the DataSets"
   ]
  },
  {
   "cell_type": "code",
   "execution_count": 33,
   "id": "protective-lobby",
   "metadata": {},
   "outputs": [
    {
     "data": {
      "text/html": [
       "<div>\n",
       "<style scoped>\n",
       "    .dataframe tbody tr th:only-of-type {\n",
       "        vertical-align: middle;\n",
       "    }\n",
       "\n",
       "    .dataframe tbody tr th {\n",
       "        vertical-align: top;\n",
       "    }\n",
       "\n",
       "    .dataframe thead th {\n",
       "        text-align: right;\n",
       "    }\n",
       "</style>\n",
       "<table border=\"1\" class=\"dataframe\">\n",
       "  <thead>\n",
       "    <tr style=\"text-align: right;\">\n",
       "      <th></th>\n",
       "      <th>Year-month</th>\n",
       "      <th>TNA</th>\n",
       "    </tr>\n",
       "  </thead>\n",
       "  <tbody>\n",
       "    <tr>\n",
       "      <th>0</th>\n",
       "      <td>1998.000000</td>\n",
       "      <td>0.43</td>\n",
       "    </tr>\n",
       "    <tr>\n",
       "      <th>1</th>\n",
       "      <td>1998.083333</td>\n",
       "      <td>0.77</td>\n",
       "    </tr>\n",
       "    <tr>\n",
       "      <th>2</th>\n",
       "      <td>1998.166667</td>\n",
       "      <td>0.75</td>\n",
       "    </tr>\n",
       "    <tr>\n",
       "      <th>3</th>\n",
       "      <td>1998.250000</td>\n",
       "      <td>0.59</td>\n",
       "    </tr>\n",
       "    <tr>\n",
       "      <th>4</th>\n",
       "      <td>1998.333333</td>\n",
       "      <td>0.59</td>\n",
       "    </tr>\n",
       "  </tbody>\n",
       "</table>\n",
       "</div>"
      ],
      "text/plain": [
       "    Year-month   TNA\n",
       "0  1998.000000  0.43\n",
       "1  1998.083333  0.77\n",
       "2  1998.166667  0.75\n",
       "3  1998.250000  0.59\n",
       "4  1998.333333  0.59"
      ]
     },
     "execution_count": 33,
     "metadata": {},
     "output_type": "execute_result"
    }
   ],
   "source": [
    "df_TNA = pd.read_csv('TNA (From AOML and PSL) Jan-Dec-1948-2021.csv')\n",
    "df_TNA.head()"
   ]
  },
  {
   "cell_type": "code",
   "execution_count": 34,
   "id": "blocked-solution",
   "metadata": {},
   "outputs": [
    {
     "data": {
      "text/html": [
       "<div>\n",
       "<style scoped>\n",
       "    .dataframe tbody tr th:only-of-type {\n",
       "        vertical-align: middle;\n",
       "    }\n",
       "\n",
       "    .dataframe tbody tr th {\n",
       "        vertical-align: top;\n",
       "    }\n",
       "\n",
       "    .dataframe thead th {\n",
       "        text-align: right;\n",
       "    }\n",
       "</style>\n",
       "<table border=\"1\" class=\"dataframe\">\n",
       "  <thead>\n",
       "    <tr style=\"text-align: right;\">\n",
       "      <th></th>\n",
       "      <th>Year-month</th>\n",
       "      <th>TNA</th>\n",
       "    </tr>\n",
       "  </thead>\n",
       "  <tbody>\n",
       "    <tr>\n",
       "      <th>0</th>\n",
       "      <td>1998-1-01</td>\n",
       "      <td>0.43</td>\n",
       "    </tr>\n",
       "    <tr>\n",
       "      <th>1</th>\n",
       "      <td>1998-2-01</td>\n",
       "      <td>0.77</td>\n",
       "    </tr>\n",
       "    <tr>\n",
       "      <th>2</th>\n",
       "      <td>1998-3-01</td>\n",
       "      <td>0.75</td>\n",
       "    </tr>\n",
       "    <tr>\n",
       "      <th>3</th>\n",
       "      <td>1998-4-01</td>\n",
       "      <td>0.59</td>\n",
       "    </tr>\n",
       "    <tr>\n",
       "      <th>4</th>\n",
       "      <td>1998-5-01</td>\n",
       "      <td>0.59</td>\n",
       "    </tr>\n",
       "  </tbody>\n",
       "</table>\n",
       "</div>"
      ],
      "text/plain": [
       "  Year-month   TNA\n",
       "0  1998-1-01  0.43\n",
       "1  1998-2-01  0.77\n",
       "2  1998-3-01  0.75\n",
       "3  1998-4-01  0.59\n",
       "4  1998-5-01  0.59"
      ]
     },
     "execution_count": 34,
     "metadata": {},
     "output_type": "execute_result"
    }
   ],
   "source": [
    "df_TNA['Year-month'] = list(map(data_transform, df_TNA['Year-month']))\n",
    "df_TNA.head()"
   ]
  },
  {
   "cell_type": "code",
   "execution_count": 51,
   "id": "arranged-geneva",
   "metadata": {},
   "outputs": [
    {
     "data": {
      "text/html": [
       "<div>\n",
       "<style scoped>\n",
       "    .dataframe tbody tr th:only-of-type {\n",
       "        vertical-align: middle;\n",
       "    }\n",
       "\n",
       "    .dataframe tbody tr th {\n",
       "        vertical-align: top;\n",
       "    }\n",
       "\n",
       "    .dataframe thead th {\n",
       "        text-align: right;\n",
       "    }\n",
       "</style>\n",
       "<table border=\"1\" class=\"dataframe\">\n",
       "  <thead>\n",
       "    <tr style=\"text-align: right;\">\n",
       "      <th></th>\n",
       "      <th>Year-month</th>\n",
       "      <th>TNA</th>\n",
       "    </tr>\n",
       "  </thead>\n",
       "  <tbody>\n",
       "    <tr>\n",
       "      <th>286</th>\n",
       "      <td>2021-11-01</td>\n",
       "      <td>NaN</td>\n",
       "    </tr>\n",
       "    <tr>\n",
       "      <th>287</th>\n",
       "      <td>2021-12-01</td>\n",
       "      <td>NaN</td>\n",
       "    </tr>\n",
       "  </tbody>\n",
       "</table>\n",
       "</div>"
      ],
      "text/plain": [
       "     Year-month  TNA\n",
       "286  2021-11-01  NaN\n",
       "287  2021-12-01  NaN"
      ]
     },
     "execution_count": 51,
     "metadata": {},
     "output_type": "execute_result"
    }
   ],
   "source": [
    "df_TNA_NaN = df_TNA.isnull()\n",
    "df_TNA_has_NaN_bool = df_TNA_NaN.any(axis=1)\n",
    "df_TNA_NaN_rows = df_TNA[df_TNA_has_NaN_bool]\n",
    "df_TNA_NaN_rows"
   ]
  },
  {
   "cell_type": "code",
   "execution_count": 54,
   "id": "national-pakistan",
   "metadata": {},
   "outputs": [],
   "source": [
    "df_TNA.to_csv('TNA (From AOML and PSL) Jan-Dec-1948-2021.csv', index=False)"
   ]
  },
  {
   "cell_type": "code",
   "execution_count": 55,
   "id": "attached-large",
   "metadata": {},
   "outputs": [],
   "source": [
    "del df_TNA, df_TNA_has_NaN_bool, df_TNA_NaN_rows, df_TNA_NaN"
   ]
  },
  {
   "cell_type": "code",
   "execution_count": 56,
   "id": "heavy-economics",
   "metadata": {},
   "outputs": [
    {
     "data": {
      "text/html": [
       "<div>\n",
       "<style scoped>\n",
       "    .dataframe tbody tr th:only-of-type {\n",
       "        vertical-align: middle;\n",
       "    }\n",
       "\n",
       "    .dataframe tbody tr th {\n",
       "        vertical-align: top;\n",
       "    }\n",
       "\n",
       "    .dataframe thead th {\n",
       "        text-align: right;\n",
       "    }\n",
       "</style>\n",
       "<table border=\"1\" class=\"dataframe\">\n",
       "  <thead>\n",
       "    <tr style=\"text-align: right;\">\n",
       "      <th></th>\n",
       "      <th>Year-month</th>\n",
       "      <th>TSA</th>\n",
       "    </tr>\n",
       "  </thead>\n",
       "  <tbody>\n",
       "    <tr>\n",
       "      <th>0</th>\n",
       "      <td>1998.000000</td>\n",
       "      <td>0.72</td>\n",
       "    </tr>\n",
       "    <tr>\n",
       "      <th>1</th>\n",
       "      <td>1998.083333</td>\n",
       "      <td>0.74</td>\n",
       "    </tr>\n",
       "    <tr>\n",
       "      <th>2</th>\n",
       "      <td>1998.166667</td>\n",
       "      <td>0.69</td>\n",
       "    </tr>\n",
       "    <tr>\n",
       "      <th>3</th>\n",
       "      <td>1998.250000</td>\n",
       "      <td>0.54</td>\n",
       "    </tr>\n",
       "    <tr>\n",
       "      <th>4</th>\n",
       "      <td>1998.333333</td>\n",
       "      <td>0.54</td>\n",
       "    </tr>\n",
       "  </tbody>\n",
       "</table>\n",
       "</div>"
      ],
      "text/plain": [
       "    Year-month  TSA \n",
       "0  1998.000000  0.72\n",
       "1  1998.083333  0.74\n",
       "2  1998.166667  0.69\n",
       "3  1998.250000  0.54\n",
       "4  1998.333333  0.54"
      ]
     },
     "execution_count": 56,
     "metadata": {},
     "output_type": "execute_result"
    }
   ],
   "source": [
    "df_TSA = pd.read_csv('TSA (From AOML and PSL) Jan-Dec-1948-2021.csv')\n",
    "df_TSA.head()"
   ]
  },
  {
   "cell_type": "code",
   "execution_count": 57,
   "id": "hired-cherry",
   "metadata": {},
   "outputs": [
    {
     "data": {
      "text/html": [
       "<div>\n",
       "<style scoped>\n",
       "    .dataframe tbody tr th:only-of-type {\n",
       "        vertical-align: middle;\n",
       "    }\n",
       "\n",
       "    .dataframe tbody tr th {\n",
       "        vertical-align: top;\n",
       "    }\n",
       "\n",
       "    .dataframe thead th {\n",
       "        text-align: right;\n",
       "    }\n",
       "</style>\n",
       "<table border=\"1\" class=\"dataframe\">\n",
       "  <thead>\n",
       "    <tr style=\"text-align: right;\">\n",
       "      <th></th>\n",
       "      <th>Year-month</th>\n",
       "      <th>TSA</th>\n",
       "    </tr>\n",
       "  </thead>\n",
       "  <tbody>\n",
       "    <tr>\n",
       "      <th>0</th>\n",
       "      <td>1998-1-01</td>\n",
       "      <td>0.72</td>\n",
       "    </tr>\n",
       "    <tr>\n",
       "      <th>1</th>\n",
       "      <td>1998-2-01</td>\n",
       "      <td>0.74</td>\n",
       "    </tr>\n",
       "    <tr>\n",
       "      <th>2</th>\n",
       "      <td>1998-3-01</td>\n",
       "      <td>0.69</td>\n",
       "    </tr>\n",
       "    <tr>\n",
       "      <th>3</th>\n",
       "      <td>1998-4-01</td>\n",
       "      <td>0.54</td>\n",
       "    </tr>\n",
       "    <tr>\n",
       "      <th>4</th>\n",
       "      <td>1998-5-01</td>\n",
       "      <td>0.54</td>\n",
       "    </tr>\n",
       "  </tbody>\n",
       "</table>\n",
       "</div>"
      ],
      "text/plain": [
       "  Year-month  TSA \n",
       "0  1998-1-01  0.72\n",
       "1  1998-2-01  0.74\n",
       "2  1998-3-01  0.69\n",
       "3  1998-4-01  0.54\n",
       "4  1998-5-01  0.54"
      ]
     },
     "execution_count": 57,
     "metadata": {},
     "output_type": "execute_result"
    }
   ],
   "source": [
    "df_TSA['Year-month'] = list(map(data_transform, df_TSA['Year-month']))\n",
    "df_TSA.head()"
   ]
  },
  {
   "cell_type": "code",
   "execution_count": 59,
   "id": "excited-medline",
   "metadata": {},
   "outputs": [
    {
     "data": {
      "text/html": [
       "<div>\n",
       "<style scoped>\n",
       "    .dataframe tbody tr th:only-of-type {\n",
       "        vertical-align: middle;\n",
       "    }\n",
       "\n",
       "    .dataframe tbody tr th {\n",
       "        vertical-align: top;\n",
       "    }\n",
       "\n",
       "    .dataframe thead th {\n",
       "        text-align: right;\n",
       "    }\n",
       "</style>\n",
       "<table border=\"1\" class=\"dataframe\">\n",
       "  <thead>\n",
       "    <tr style=\"text-align: right;\">\n",
       "      <th></th>\n",
       "      <th>Year-month</th>\n",
       "      <th>TSA</th>\n",
       "    </tr>\n",
       "  </thead>\n",
       "  <tbody>\n",
       "    <tr>\n",
       "      <th>286</th>\n",
       "      <td>2021-11-01</td>\n",
       "      <td>NaN</td>\n",
       "    </tr>\n",
       "    <tr>\n",
       "      <th>287</th>\n",
       "      <td>2021-12-01</td>\n",
       "      <td>NaN</td>\n",
       "    </tr>\n",
       "  </tbody>\n",
       "</table>\n",
       "</div>"
      ],
      "text/plain": [
       "     Year-month  TSA \n",
       "286  2021-11-01   NaN\n",
       "287  2021-12-01   NaN"
      ]
     },
     "execution_count": 59,
     "metadata": {},
     "output_type": "execute_result"
    }
   ],
   "source": [
    "df_TSA_NaN = df_TSA.isna()\n",
    "df_TSA_has_NaN_bool = df_TSA_NaN.any(axis=1)\n",
    "df_TSA_NaN_rows = df_TSA[df_TSA_has_NaN_bool]\n",
    "df_TSA_NaN_rows"
   ]
  },
  {
   "cell_type": "code",
   "execution_count": 60,
   "id": "similar-tennessee",
   "metadata": {},
   "outputs": [],
   "source": [
    "df_TSA.to_csv('TSA (From AOML and PSL) Jan-Dec-1948-2021.csv', index=False)"
   ]
  },
  {
   "cell_type": "code",
   "execution_count": 61,
   "id": "quality-point",
   "metadata": {},
   "outputs": [],
   "source": [
    "del df_TSA_NaN, df_TSA_has_NaN_bool, df_TSA_NaN_rows, df_TSA"
   ]
  },
  {
   "cell_type": "code",
   "execution_count": 64,
   "id": "systematic-value",
   "metadata": {},
   "outputs": [
    {
     "data": {
      "text/html": [
       "<div>\n",
       "<style scoped>\n",
       "    .dataframe tbody tr th:only-of-type {\n",
       "        vertical-align: middle;\n",
       "    }\n",
       "\n",
       "    .dataframe tbody tr th {\n",
       "        vertical-align: top;\n",
       "    }\n",
       "\n",
       "    .dataframe thead th {\n",
       "        text-align: right;\n",
       "    }\n",
       "</style>\n",
       "<table border=\"1\" class=\"dataframe\">\n",
       "  <thead>\n",
       "    <tr style=\"text-align: right;\">\n",
       "      <th></th>\n",
       "      <th>Year-month</th>\n",
       "      <th>Temperature</th>\n",
       "    </tr>\n",
       "  </thead>\n",
       "  <tbody>\n",
       "    <tr>\n",
       "      <th>0</th>\n",
       "      <td>1998.000000</td>\n",
       "      <td>28.12</td>\n",
       "    </tr>\n",
       "    <tr>\n",
       "      <th>1</th>\n",
       "      <td>1998.083333</td>\n",
       "      <td>28.74</td>\n",
       "    </tr>\n",
       "    <tr>\n",
       "      <th>2</th>\n",
       "      <td>1998.166667</td>\n",
       "      <td>29.23</td>\n",
       "    </tr>\n",
       "    <tr>\n",
       "      <th>3</th>\n",
       "      <td>1998.250000</td>\n",
       "      <td>28.22</td>\n",
       "    </tr>\n",
       "    <tr>\n",
       "      <th>4</th>\n",
       "      <td>1998.333333</td>\n",
       "      <td>27.14</td>\n",
       "    </tr>\n",
       "  </tbody>\n",
       "</table>\n",
       "</div>"
      ],
      "text/plain": [
       "    Year-month   Temperature\n",
       "0  1998.000000         28.12\n",
       "1  1998.083333         28.74\n",
       "2  1998.166667         29.23\n",
       "3  1998.250000         28.22\n",
       "4  1998.333333         27.14"
      ]
     },
     "execution_count": 64,
     "metadata": {},
     "output_type": "execute_result"
    }
   ],
   "source": [
    "###\n",
    "# Para o El Ninho 1+2 \n",
    "df_N12 = pd.read_csv('Elninho/Ninho 1+2 (From NOAA-CPC) Jan-Dec-1948-2021.csv')\n",
    "df_N12.head()"
   ]
  },
  {
   "cell_type": "code",
   "execution_count": 65,
   "id": "acquired-dependence",
   "metadata": {},
   "outputs": [
    {
     "data": {
      "text/html": [
       "<div>\n",
       "<style scoped>\n",
       "    .dataframe tbody tr th:only-of-type {\n",
       "        vertical-align: middle;\n",
       "    }\n",
       "\n",
       "    .dataframe tbody tr th {\n",
       "        vertical-align: top;\n",
       "    }\n",
       "\n",
       "    .dataframe thead th {\n",
       "        text-align: right;\n",
       "    }\n",
       "</style>\n",
       "<table border=\"1\" class=\"dataframe\">\n",
       "  <thead>\n",
       "    <tr style=\"text-align: right;\">\n",
       "      <th></th>\n",
       "      <th>Year-month</th>\n",
       "      <th>Temperature</th>\n",
       "    </tr>\n",
       "  </thead>\n",
       "  <tbody>\n",
       "    <tr>\n",
       "      <th>0</th>\n",
       "      <td>1998-1-01</td>\n",
       "      <td>28.12</td>\n",
       "    </tr>\n",
       "    <tr>\n",
       "      <th>1</th>\n",
       "      <td>1998-2-01</td>\n",
       "      <td>28.74</td>\n",
       "    </tr>\n",
       "    <tr>\n",
       "      <th>2</th>\n",
       "      <td>1998-3-01</td>\n",
       "      <td>29.23</td>\n",
       "    </tr>\n",
       "    <tr>\n",
       "      <th>3</th>\n",
       "      <td>1998-4-01</td>\n",
       "      <td>28.22</td>\n",
       "    </tr>\n",
       "    <tr>\n",
       "      <th>4</th>\n",
       "      <td>1998-5-01</td>\n",
       "      <td>27.14</td>\n",
       "    </tr>\n",
       "  </tbody>\n",
       "</table>\n",
       "</div>"
      ],
      "text/plain": [
       "  Year-month   Temperature\n",
       "0  1998-1-01         28.12\n",
       "1  1998-2-01         28.74\n",
       "2  1998-3-01         29.23\n",
       "3  1998-4-01         28.22\n",
       "4  1998-5-01         27.14"
      ]
     },
     "execution_count": 65,
     "metadata": {},
     "output_type": "execute_result"
    }
   ],
   "source": [
    "df_N12['Year-month'] = list(map(data_transform, df_N12['Year-month']))\n",
    "df_N12.head()"
   ]
  },
  {
   "cell_type": "code",
   "execution_count": 66,
   "id": "greatest-battery",
   "metadata": {},
   "outputs": [],
   "source": [
    "df_N12.to_csv('Elninho/Ninho 1+2 (From NOAA-CPC) Jan-Dec-1948-2021.csv', index=False)"
   ]
  },
  {
   "cell_type": "code",
   "execution_count": 67,
   "id": "regular-tower",
   "metadata": {},
   "outputs": [],
   "source": [
    "del df_N12"
   ]
  },
  {
   "cell_type": "code",
   "execution_count": 68,
   "id": "usual-sacramento",
   "metadata": {},
   "outputs": [],
   "source": [
    "###\n",
    "# Para o El Ninho 1+2 \n",
    "df_N34 = pd.read_csv('Elninho/Ninho 3.4 (From NOAA-CPC) Jan-Dec-1948-2021.csv')\n",
    "df_N34.head()\n",
    "\n",
    "df_N34['Year-month'] = list(map(data_transform, df_N34['Year-month']))\n",
    "df_N34.head()\n",
    "\n",
    "df_N34.to_csv('Elninho/Ninho 3.4 (From NOAA-CPC) Jan-Dec-1948-2021.csv', index=False)"
   ]
  },
  {
   "cell_type": "code",
   "execution_count": 69,
   "id": "herbal-economics",
   "metadata": {},
   "outputs": [],
   "source": [
    "del df_N34"
   ]
  },
  {
   "cell_type": "code",
   "execution_count": 74,
   "id": "surface-benefit",
   "metadata": {},
   "outputs": [
    {
     "data": {
      "text/html": [
       "<div>\n",
       "<style scoped>\n",
       "    .dataframe tbody tr th:only-of-type {\n",
       "        vertical-align: middle;\n",
       "    }\n",
       "\n",
       "    .dataframe tbody tr th {\n",
       "        vertical-align: top;\n",
       "    }\n",
       "\n",
       "    .dataframe thead th {\n",
       "        text-align: right;\n",
       "    }\n",
       "</style>\n",
       "<table border=\"1\" class=\"dataframe\">\n",
       "  <thead>\n",
       "    <tr style=\"text-align: right;\">\n",
       "      <th></th>\n",
       "      <th>Year-month</th>\n",
       "      <th>Temperature</th>\n",
       "    </tr>\n",
       "  </thead>\n",
       "  <tbody>\n",
       "    <tr>\n",
       "      <th>0</th>\n",
       "      <td>1998.000000</td>\n",
       "      <td>28.74</td>\n",
       "    </tr>\n",
       "    <tr>\n",
       "      <th>1</th>\n",
       "      <td>1998.083333</td>\n",
       "      <td>28.90</td>\n",
       "    </tr>\n",
       "    <tr>\n",
       "      <th>2</th>\n",
       "      <td>1998.166667</td>\n",
       "      <td>29.12</td>\n",
       "    </tr>\n",
       "    <tr>\n",
       "      <th>3</th>\n",
       "      <td>1998.250000</td>\n",
       "      <td>29.22</td>\n",
       "    </tr>\n",
       "    <tr>\n",
       "      <th>4</th>\n",
       "      <td>1998.333333</td>\n",
       "      <td>28.64</td>\n",
       "    </tr>\n",
       "  </tbody>\n",
       "</table>\n",
       "</div>"
      ],
      "text/plain": [
       "    Year-month   Temperature\n",
       "0  1998.000000         28.74\n",
       "1  1998.083333         28.90\n",
       "2  1998.166667         29.12\n",
       "3  1998.250000         29.22\n",
       "4  1998.333333         28.64"
      ]
     },
     "execution_count": 74,
     "metadata": {},
     "output_type": "execute_result"
    }
   ],
   "source": [
    "###\n",
    "# Para o El Ninho 1+2 \n",
    "df_N3 = pd.read_csv('Elninho/Ninho 3 (From NOAA-CPC) Jan-Dec-1948-2021.csv')\n",
    "df_N3.head()"
   ]
  },
  {
   "cell_type": "code",
   "execution_count": 76,
   "id": "connected-train",
   "metadata": {},
   "outputs": [],
   "source": [
    "del df_N3"
   ]
  },
  {
   "cell_type": "code",
   "execution_count": 79,
   "id": "color-offering",
   "metadata": {},
   "outputs": [
    {
     "data": {
      "text/html": [
       "<div>\n",
       "<style scoped>\n",
       "    .dataframe tbody tr th:only-of-type {\n",
       "        vertical-align: middle;\n",
       "    }\n",
       "\n",
       "    .dataframe tbody tr th {\n",
       "        vertical-align: top;\n",
       "    }\n",
       "\n",
       "    .dataframe thead th {\n",
       "        text-align: right;\n",
       "    }\n",
       "</style>\n",
       "<table border=\"1\" class=\"dataframe\">\n",
       "  <thead>\n",
       "    <tr style=\"text-align: right;\">\n",
       "      <th></th>\n",
       "      <th>Year-month</th>\n",
       "      <th>Temperature</th>\n",
       "    </tr>\n",
       "  </thead>\n",
       "  <tbody>\n",
       "    <tr>\n",
       "      <th>0</th>\n",
       "      <td>1998.000000</td>\n",
       "      <td>28.95</td>\n",
       "    </tr>\n",
       "    <tr>\n",
       "      <th>1</th>\n",
       "      <td>1998.083333</td>\n",
       "      <td>28.79</td>\n",
       "    </tr>\n",
       "    <tr>\n",
       "      <th>2</th>\n",
       "      <td>1998.166667</td>\n",
       "      <td>28.62</td>\n",
       "    </tr>\n",
       "    <tr>\n",
       "      <th>3</th>\n",
       "      <td>1998.250000</td>\n",
       "      <td>28.56</td>\n",
       "    </tr>\n",
       "    <tr>\n",
       "      <th>4</th>\n",
       "      <td>1998.333333</td>\n",
       "      <td>28.66</td>\n",
       "    </tr>\n",
       "  </tbody>\n",
       "</table>\n",
       "</div>"
      ],
      "text/plain": [
       "    Year-month   Temperature\n",
       "0  1998.000000         28.95\n",
       "1  1998.083333         28.79\n",
       "2  1998.166667         28.62\n",
       "3  1998.250000         28.56\n",
       "4  1998.333333         28.66"
      ]
     },
     "execution_count": 79,
     "metadata": {},
     "output_type": "execute_result"
    }
   ],
   "source": [
    "###\n",
    "# Para o El Ninho 1+2 \n",
    "df_N4 = pd.read_csv('Elninho/Ninho 4 (From NOAA-CPC) Jan-Dec-1948-2021.csv')\n",
    "df_N4.head()"
   ]
  },
  {
   "cell_type": "code",
   "execution_count": 80,
   "id": "blessed-invitation",
   "metadata": {},
   "outputs": [],
   "source": [
    "\n",
    "df_N4['Year-month'] = list(map(data_transform, df_N4['Year-month']))\n",
    "df_N4.head()\n",
    "\n",
    "df_N4.to_csv('Elninho/Ninho 4 (From NOAA-CPC) Jan-Dec-1948-2021.csv', index=False)"
   ]
  },
  {
   "cell_type": "code",
   "execution_count": 88,
   "id": "bored-mongolia",
   "metadata": {},
   "outputs": [],
   "source": [
    "def correcting_date(date):\n",
    "    #day-month-tear ti year-month-day:\n",
    "    \n",
    "    # Catching parts of date:\n",
    "    dates = re.findall(\"\\d+\", date)\n",
    "    \n",
    "    corrected = dates[2]+\"-\"+dates[1]+\"-\"+dates[0]\n",
    "    \n",
    "    return corrected"
   ]
  },
  {
   "cell_type": "code",
   "execution_count": 89,
   "id": "following-airfare",
   "metadata": {},
   "outputs": [
    {
     "data": {
      "text/plain": [
       "'2002-05-20'"
      ]
     },
     "execution_count": 89,
     "metadata": {},
     "output_type": "execute_result"
    }
   ],
   "source": [
    "correcting_date(\"20/05/2002\")"
   ]
  },
  {
   "cell_type": "code",
   "execution_count": 90,
   "id": "painted-speaking",
   "metadata": {},
   "outputs": [
    {
     "data": {
      "text/html": [
       "<div>\n",
       "<style scoped>\n",
       "    .dataframe tbody tr th:only-of-type {\n",
       "        vertical-align: middle;\n",
       "    }\n",
       "\n",
       "    .dataframe tbody tr th {\n",
       "        vertical-align: top;\n",
       "    }\n",
       "\n",
       "    .dataframe thead th {\n",
       "        text-align: right;\n",
       "    }\n",
       "</style>\n",
       "<table border=\"1\" class=\"dataframe\">\n",
       "  <thead>\n",
       "    <tr style=\"text-align: right;\">\n",
       "      <th></th>\n",
       "      <th>Data da Medição</th>\n",
       "      <th>Cota (m)</th>\n",
       "      <th>Volume Útil (hm³)</th>\n",
       "      <th>Volume (%)</th>\n",
       "    </tr>\n",
       "  </thead>\n",
       "  <tbody>\n",
       "    <tr>\n",
       "      <th>0</th>\n",
       "      <td>25/01/2002</td>\n",
       "      <td>0</td>\n",
       "      <td>451,28</td>\n",
       "      <td>6,74</td>\n",
       "    </tr>\n",
       "    <tr>\n",
       "      <th>1</th>\n",
       "      <td>30/04/2002</td>\n",
       "      <td>0</td>\n",
       "      <td>451,28</td>\n",
       "      <td>6,74</td>\n",
       "    </tr>\n",
       "    <tr>\n",
       "      <th>2</th>\n",
       "      <td>06/05/2002</td>\n",
       "      <td>74,2</td>\n",
       "      <td>420,4</td>\n",
       "      <td>6,27</td>\n",
       "    </tr>\n",
       "    <tr>\n",
       "      <th>3</th>\n",
       "      <td>20/05/2002</td>\n",
       "      <td>74,92</td>\n",
       "      <td>451,29</td>\n",
       "      <td>6,74</td>\n",
       "    </tr>\n",
       "    <tr>\n",
       "      <th>4</th>\n",
       "      <td>30/05/2002</td>\n",
       "      <td>0</td>\n",
       "      <td>456,6</td>\n",
       "      <td>6,81</td>\n",
       "    </tr>\n",
       "  </tbody>\n",
       "</table>\n",
       "</div>"
      ],
      "text/plain": [
       "  Data da Medição Cota (m) Volume Útil (hm³) Volume (%)\n",
       "0      25/01/2002        0            451,28       6,74\n",
       "1      30/04/2002        0            451,28       6,74\n",
       "2      06/05/2002     74,2             420,4       6,27\n",
       "3      20/05/2002    74,92            451,29       6,74\n",
       "4      30/05/2002        0             456,6       6,81"
      ]
     },
     "execution_count": 90,
     "metadata": {},
     "output_type": "execute_result"
    }
   ],
   "source": [
    "###\n",
    "# Para o Histórico Castanhal \n",
    "df_Cast = pd.read_csv('Níveis do Reservatório/Histórico_CASTANHÃO.csv')\n",
    "df_Cast.head()\n"
   ]
  },
  {
   "cell_type": "code",
   "execution_count": 91,
   "id": "turkish-guest",
   "metadata": {},
   "outputs": [
    {
     "data": {
      "text/html": [
       "<div>\n",
       "<style scoped>\n",
       "    .dataframe tbody tr th:only-of-type {\n",
       "        vertical-align: middle;\n",
       "    }\n",
       "\n",
       "    .dataframe tbody tr th {\n",
       "        vertical-align: top;\n",
       "    }\n",
       "\n",
       "    .dataframe thead th {\n",
       "        text-align: right;\n",
       "    }\n",
       "</style>\n",
       "<table border=\"1\" class=\"dataframe\">\n",
       "  <thead>\n",
       "    <tr style=\"text-align: right;\">\n",
       "      <th></th>\n",
       "      <th>Data da Medição</th>\n",
       "      <th>Cota (m)</th>\n",
       "      <th>Volume Útil (hm³)</th>\n",
       "      <th>Volume (%)</th>\n",
       "    </tr>\n",
       "  </thead>\n",
       "  <tbody>\n",
       "    <tr>\n",
       "      <th>0</th>\n",
       "      <td>2002-01-25</td>\n",
       "      <td>0</td>\n",
       "      <td>451,28</td>\n",
       "      <td>6,74</td>\n",
       "    </tr>\n",
       "    <tr>\n",
       "      <th>1</th>\n",
       "      <td>2002-04-30</td>\n",
       "      <td>0</td>\n",
       "      <td>451,28</td>\n",
       "      <td>6,74</td>\n",
       "    </tr>\n",
       "    <tr>\n",
       "      <th>2</th>\n",
       "      <td>2002-05-06</td>\n",
       "      <td>74,2</td>\n",
       "      <td>420,4</td>\n",
       "      <td>6,27</td>\n",
       "    </tr>\n",
       "    <tr>\n",
       "      <th>3</th>\n",
       "      <td>2002-05-20</td>\n",
       "      <td>74,92</td>\n",
       "      <td>451,29</td>\n",
       "      <td>6,74</td>\n",
       "    </tr>\n",
       "    <tr>\n",
       "      <th>4</th>\n",
       "      <td>2002-05-30</td>\n",
       "      <td>0</td>\n",
       "      <td>456,6</td>\n",
       "      <td>6,81</td>\n",
       "    </tr>\n",
       "  </tbody>\n",
       "</table>\n",
       "</div>"
      ],
      "text/plain": [
       "  Data da Medição Cota (m) Volume Útil (hm³) Volume (%)\n",
       "0      2002-01-25        0            451,28       6,74\n",
       "1      2002-04-30        0            451,28       6,74\n",
       "2      2002-05-06     74,2             420,4       6,27\n",
       "3      2002-05-20    74,92            451,29       6,74\n",
       "4      2002-05-30        0             456,6       6,81"
      ]
     },
     "execution_count": 91,
     "metadata": {},
     "output_type": "execute_result"
    }
   ],
   "source": [
    "\n",
    "df_Cast['Data da Medição'] = list(map(correcting_date, df_Cast['Data da Medição']))\n",
    "df_Cast.head()"
   ]
  },
  {
   "cell_type": "code",
   "execution_count": 137,
   "id": "different-survivor",
   "metadata": {},
   "outputs": [],
   "source": [
    "df_corr = df_Cast.copy() "
   ]
  },
  {
   "cell_type": "code",
   "execution_count": 154,
   "id": "false-translator",
   "metadata": {},
   "outputs": [],
   "source": [
    "def change_colon(num):\n",
    "    if ',' in str(num):\n",
    "        parts = num.split(',')\n",
    "        new_num = float(parts[0]+\".\"+parts[1])\n",
    "    else:\n",
    "        new_num = float(num)\n",
    "    return new_num"
   ]
  },
  {
   "cell_type": "code",
   "execution_count": 156,
   "id": "bibliographic-float",
   "metadata": {},
   "outputs": [
    {
     "data": {
      "text/html": [
       "<div>\n",
       "<style scoped>\n",
       "    .dataframe tbody tr th:only-of-type {\n",
       "        vertical-align: middle;\n",
       "    }\n",
       "\n",
       "    .dataframe tbody tr th {\n",
       "        vertical-align: top;\n",
       "    }\n",
       "\n",
       "    .dataframe thead th {\n",
       "        text-align: right;\n",
       "    }\n",
       "</style>\n",
       "<table border=\"1\" class=\"dataframe\">\n",
       "  <thead>\n",
       "    <tr style=\"text-align: right;\">\n",
       "      <th></th>\n",
       "      <th>Data da Medição</th>\n",
       "      <th>Cota (m)</th>\n",
       "      <th>Volume Útil (hm³)</th>\n",
       "      <th>Volume (%)</th>\n",
       "    </tr>\n",
       "  </thead>\n",
       "  <tbody>\n",
       "    <tr>\n",
       "      <th>0</th>\n",
       "      <td>2002-01-25</td>\n",
       "      <td>0.00</td>\n",
       "      <td>451.28</td>\n",
       "      <td>6.74</td>\n",
       "    </tr>\n",
       "    <tr>\n",
       "      <th>1</th>\n",
       "      <td>2002-04-30</td>\n",
       "      <td>0.00</td>\n",
       "      <td>451.28</td>\n",
       "      <td>6.74</td>\n",
       "    </tr>\n",
       "    <tr>\n",
       "      <th>2</th>\n",
       "      <td>2002-05-06</td>\n",
       "      <td>74.20</td>\n",
       "      <td>420.40</td>\n",
       "      <td>6.27</td>\n",
       "    </tr>\n",
       "    <tr>\n",
       "      <th>3</th>\n",
       "      <td>2002-05-20</td>\n",
       "      <td>74.92</td>\n",
       "      <td>451.29</td>\n",
       "      <td>6.74</td>\n",
       "    </tr>\n",
       "    <tr>\n",
       "      <th>4</th>\n",
       "      <td>2002-05-30</td>\n",
       "      <td>0.00</td>\n",
       "      <td>456.60</td>\n",
       "      <td>6.81</td>\n",
       "    </tr>\n",
       "  </tbody>\n",
       "</table>\n",
       "</div>"
      ],
      "text/plain": [
       "  Data da Medição  Cota (m)  Volume Útil (hm³)  Volume (%)\n",
       "0      2002-01-25      0.00             451.28        6.74\n",
       "1      2002-04-30      0.00             451.28        6.74\n",
       "2      2002-05-06     74.20             420.40        6.27\n",
       "3      2002-05-20     74.92             451.29        6.74\n",
       "4      2002-05-30      0.00             456.60        6.81"
      ]
     },
     "execution_count": 156,
     "metadata": {},
     "output_type": "execute_result"
    }
   ],
   "source": [
    "df_corr['Cota (m)'] = list(map(change_colon, df_corr['Cota (m)']))\n",
    "df_corr['Volume Útil (hm³)'] = list(map(change_colon, df_corr['Volume Útil (hm³)']))\n",
    "df_corr['Volume (%)'] = list(map(change_colon, df_corr['Volume (%)']))\n",
    "\n",
    "df_corr.head()"
   ]
  },
  {
   "cell_type": "code",
   "execution_count": 157,
   "id": "hispanic-schedule",
   "metadata": {},
   "outputs": [
    {
     "data": {
      "text/plain": [
       "'2002-01-25'"
      ]
     },
     "execution_count": 157,
     "metadata": {},
     "output_type": "execute_result"
    }
   ],
   "source": [
    "df_corr.iloc[0]['Data da Medição']"
   ]
  },
  {
   "cell_type": "code",
   "execution_count": 139,
   "id": "cutting-polish",
   "metadata": {},
   "outputs": [],
   "source": [
    "df_res = pd.DataFrame({'Data da Medição':[], 'Cota (m)':[],\n",
    "                       'Volume Útil (hm³)':[],'Volume (%)':[]})"
   ]
  },
  {
   "cell_type": "code",
   "execution_count": 140,
   "id": "strategic-radio",
   "metadata": {},
   "outputs": [
    {
     "data": {
      "text/html": [
       "<div>\n",
       "<style scoped>\n",
       "    .dataframe tbody tr th:only-of-type {\n",
       "        vertical-align: middle;\n",
       "    }\n",
       "\n",
       "    .dataframe tbody tr th {\n",
       "        vertical-align: top;\n",
       "    }\n",
       "\n",
       "    .dataframe thead th {\n",
       "        text-align: right;\n",
       "    }\n",
       "</style>\n",
       "<table border=\"1\" class=\"dataframe\">\n",
       "  <thead>\n",
       "    <tr style=\"text-align: right;\">\n",
       "      <th></th>\n",
       "      <th>Data da Medição</th>\n",
       "      <th>Cota (m)</th>\n",
       "      <th>Volume Útil (hm³)</th>\n",
       "      <th>Volume (%)</th>\n",
       "    </tr>\n",
       "  </thead>\n",
       "  <tbody>\n",
       "    <tr>\n",
       "      <th>0</th>\n",
       "      <td>0.0</td>\n",
       "      <td>1.0</td>\n",
       "      <td>2.0</td>\n",
       "      <td>3.0</td>\n",
       "    </tr>\n",
       "  </tbody>\n",
       "</table>\n",
       "</div>"
      ],
      "text/plain": [
       "   Data da Medição  Cota (m)  Volume Útil (hm³)  Volume (%)\n",
       "0              0.0       1.0                2.0         3.0"
      ]
     },
     "execution_count": 140,
     "metadata": {},
     "output_type": "execute_result"
    }
   ],
   "source": [
    "df_res.append({'Data da Medição':0, 'Cota (m)':1,\n",
    "                       'Volume Útil (hm³)':2,'Volume (%)':3}, ignore_index=True)"
   ]
  },
  {
   "cell_type": "code",
   "execution_count": 164,
   "id": "sixth-firewall",
   "metadata": {},
   "outputs": [
    {
     "name": "stdout",
     "output_type": "stream",
     "text": [
      "1\n",
      "Mês  04\n",
      "2\n",
      "Averaged month values added to df_res!\n",
      "Data da Medição: 2002-05-06 Cota (m): 0.0 Volume Útil (hm³): 451.28 Volume (%): 6.74\n",
      "05\n"
     ]
    }
   ],
   "source": [
    "actual_month = 0\n",
    "sum_cota = 0\n",
    "sum_volU = 0\n",
    "sum_vol = 0\n",
    "counter = 0\n",
    "for i in range(len(df_corr)):\n",
    "    i += 1\n",
    "    print(i)\n",
    "    data = df_corr.iloc[i]['Data da Medição']\n",
    "    month = data[5:7]\n",
    "    \n",
    "    if month == actual_month or i==1:\n",
    "        print(\"Mês \",month)\n",
    "        # summing  values for the same month \n",
    "        sum_cota += float(df_corr.iloc[i]['Cota (m)'])\n",
    "        sum_volU += float(df_corr.iloc[i]['Volume Útil (hm³)'])\n",
    "        sum_vol += float(df_corr.iloc[i]['Volume (%)'])\n",
    "        counter += 1\n",
    "        actual_month = month\n",
    "    \n",
    "    elif not month == actual_month and not counter == 0: \n",
    "        # Firstly calculates the month averages\n",
    "        avg_cota = sum_cota/counter \n",
    "        avg_volU = sum_volU/counter\n",
    "        avg_vol = sum_vol/counter\n",
    "        \n",
    "        # Then, append this averaged line in the df_res\n",
    "        df_res = df_res.append({'Data da Medição':data, 'Cota (m)':avg_cota,\n",
    "                       'Volume Útil (hm³)':avg_volU,'Volume (%)':avg_vol}, ignore_index=True)\n",
    "        print(\"Averaged month values added to df_res!\")\n",
    "        print('Data da Medição:',data,'Cota (m):',avg_cota,\n",
    "                       'Volume Útil (hm³):',avg_volU,'Volume (%):',avg_vol)\n",
    "        \n",
    "        # then we start cummulative values and the counter for the next month\n",
    "        actual_month = month\n",
    "        print(month)\n",
    "        # summing  values for the same month \n",
    "        sum_cota += df_corr.iloc[i]['Cota (m)']\n",
    "        sum_volU += df_corr.iloc[i]['Volume Útil (hm³)']\n",
    "        sum_vol += df_corr.iloc[i]['Volume (%)']\n",
    "        counter += 1\n",
    "        actual_month = month\n",
    "        break\n",
    "    \n",
    "    \n"
   ]
  },
  {
   "cell_type": "code",
   "execution_count": null,
   "id": "atlantic-layout",
   "metadata": {},
   "outputs": [],
   "source": []
  }
 ],
 "metadata": {
  "kernelspec": {
   "display_name": "Python 3 (ipykernel)",
   "language": "python",
   "name": "python3"
  },
  "language_info": {
   "codemirror_mode": {
    "name": "ipython",
    "version": 3
   },
   "file_extension": ".py",
   "mimetype": "text/x-python",
   "name": "python",
   "nbconvert_exporter": "python",
   "pygments_lexer": "ipython3",
   "version": "3.8.10"
  }
 },
 "nbformat": 4,
 "nbformat_minor": 5
}
